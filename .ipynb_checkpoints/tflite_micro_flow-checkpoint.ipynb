{
 "cells": [
  {
   "cell_type": "code",
   "execution_count": null,
   "id": "302c351a-a772-4084-bed9-2bd547bfc860",
   "metadata": {},
   "outputs": [],
   "source": [
    "from pathlib import Path\n",
    "\n",
    "MODELS_DIR = Path('./models')\n",
    "MODELS_DIR.mkdir(exists_ok=True)\n",
    "MODEL_TF = MODELS_DIR / 'model'\n",
    "MODEL_NO_QUANT_TFLITE = MODELS_DIR / 'model_no_quant.tflite'"
   ]
  }
 ],
 "metadata": {
  "kernelspec": {
   "display_name": "Python 3 (ipykernel)",
   "language": "python",
   "name": "python3"
  },
  "language_info": {
   "codemirror_mode": {
    "name": "ipython",
    "version": 3
   },
   "file_extension": ".py",
   "mimetype": "text/x-python",
   "name": "python",
   "nbconvert_exporter": "python",
   "pygments_lexer": "ipython3",
   "version": "3.10.6"
  }
 },
 "nbformat": 4,
 "nbformat_minor": 5
}
